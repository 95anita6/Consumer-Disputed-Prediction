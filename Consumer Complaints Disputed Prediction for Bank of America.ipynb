{
 "cells": [
  {
   "cell_type": "code",
   "execution_count": 1,
   "metadata": {},
   "outputs": [],
   "source": [
    "import pandas as pd\n",
    "import numpy as np\n",
    "\n",
    "import warnings\n",
    "warnings.filterwarnings('ignore')"
   ]
  },
  {
   "cell_type": "code",
   "execution_count": 2,
   "metadata": {},
   "outputs": [],
   "source": [
    "data_file_train = r'E:\\Python\\P1 Data\\Consumer_Complaints_train.csv'"
   ]
  },
  {
   "cell_type": "code",
   "execution_count": 3,
   "metadata": {},
   "outputs": [],
   "source": [
    "cc_all = pd.read_csv(data_file_train)"
   ]
  },
  {
   "cell_type": "code",
   "execution_count": 4,
   "metadata": {},
   "outputs": [
    {
     "data": {
      "text/plain": [
       "(478421, 18)"
      ]
     },
     "execution_count": 4,
     "metadata": {},
     "output_type": "execute_result"
    }
   ],
   "source": [
    "cc_all.shape"
   ]
  },
  {
   "cell_type": "code",
   "execution_count": 5,
   "metadata": {},
   "outputs": [],
   "source": [
    "cc = cc_all[cc_all['Company']=='Bank of America']"
   ]
  },
  {
   "cell_type": "code",
   "execution_count": 6,
   "metadata": {},
   "outputs": [
    {
     "data": {
      "text/html": [
       "<div>\n",
       "<style scoped>\n",
       "    .dataframe tbody tr th:only-of-type {\n",
       "        vertical-align: middle;\n",
       "    }\n",
       "\n",
       "    .dataframe tbody tr th {\n",
       "        vertical-align: top;\n",
       "    }\n",
       "\n",
       "    .dataframe thead th {\n",
       "        text-align: right;\n",
       "    }\n",
       "</style>\n",
       "<table border=\"1\" class=\"dataframe\">\n",
       "  <thead>\n",
       "    <tr style=\"text-align: right;\">\n",
       "      <th></th>\n",
       "      <th>Date received</th>\n",
       "      <th>Product</th>\n",
       "      <th>Sub-product</th>\n",
       "      <th>Issue</th>\n",
       "      <th>Sub-issue</th>\n",
       "      <th>Consumer complaint narrative</th>\n",
       "      <th>Company public response</th>\n",
       "      <th>Company</th>\n",
       "      <th>State</th>\n",
       "      <th>ZIP code</th>\n",
       "      <th>Tags</th>\n",
       "      <th>Consumer consent provided?</th>\n",
       "      <th>Submitted via</th>\n",
       "      <th>Date sent to company</th>\n",
       "      <th>Company response to consumer</th>\n",
       "      <th>Timely response?</th>\n",
       "      <th>Consumer disputed?</th>\n",
       "      <th>Complaint ID</th>\n",
       "    </tr>\n",
       "  </thead>\n",
       "  <tbody>\n",
       "    <tr>\n",
       "      <th>4</th>\n",
       "      <td>2014-11-20</td>\n",
       "      <td>Credit card</td>\n",
       "      <td>NaN</td>\n",
       "      <td>Transaction issue</td>\n",
       "      <td>NaN</td>\n",
       "      <td>NaN</td>\n",
       "      <td>NaN</td>\n",
       "      <td>Bank of America</td>\n",
       "      <td>MA</td>\n",
       "      <td>02127</td>\n",
       "      <td>NaN</td>\n",
       "      <td>NaN</td>\n",
       "      <td>Web</td>\n",
       "      <td>2014-11-28</td>\n",
       "      <td>Closed with explanation</td>\n",
       "      <td>Yes</td>\n",
       "      <td>No</td>\n",
       "      <td>1132572</td>\n",
       "    </tr>\n",
       "    <tr>\n",
       "      <th>5</th>\n",
       "      <td>2014-06-26</td>\n",
       "      <td>Mortgage</td>\n",
       "      <td>Other mortgage</td>\n",
       "      <td>Loan modification,collection,foreclosure</td>\n",
       "      <td>NaN</td>\n",
       "      <td>NaN</td>\n",
       "      <td>NaN</td>\n",
       "      <td>Bank of America</td>\n",
       "      <td>WI</td>\n",
       "      <td>54313</td>\n",
       "      <td>NaN</td>\n",
       "      <td>NaN</td>\n",
       "      <td>Referral</td>\n",
       "      <td>2014-07-01</td>\n",
       "      <td>Closed with explanation</td>\n",
       "      <td>Yes</td>\n",
       "      <td>No</td>\n",
       "      <td>913769</td>\n",
       "    </tr>\n",
       "    <tr>\n",
       "      <th>9</th>\n",
       "      <td>2016-03-30</td>\n",
       "      <td>Bank account or service</td>\n",
       "      <td>Checking account</td>\n",
       "      <td>Deposits and withdrawals</td>\n",
       "      <td>NaN</td>\n",
       "      <td>I put my settlement check in to bank of americ...</td>\n",
       "      <td>Company has responded to the consumer and the ...</td>\n",
       "      <td>Bank of America</td>\n",
       "      <td>TX</td>\n",
       "      <td>787XX</td>\n",
       "      <td>NaN</td>\n",
       "      <td>Consent provided</td>\n",
       "      <td>Web</td>\n",
       "      <td>2016-04-01</td>\n",
       "      <td>Closed with explanation</td>\n",
       "      <td>Yes</td>\n",
       "      <td>No</td>\n",
       "      <td>1855737</td>\n",
       "    </tr>\n",
       "    <tr>\n",
       "      <th>16</th>\n",
       "      <td>2013-12-13</td>\n",
       "      <td>Mortgage</td>\n",
       "      <td>Conventional adjustable mortgage (ARM)</td>\n",
       "      <td>Loan modification,collection,foreclosure</td>\n",
       "      <td>NaN</td>\n",
       "      <td>NaN</td>\n",
       "      <td>NaN</td>\n",
       "      <td>Bank of America</td>\n",
       "      <td>FL</td>\n",
       "      <td>33134</td>\n",
       "      <td>NaN</td>\n",
       "      <td>NaN</td>\n",
       "      <td>Web</td>\n",
       "      <td>2013-12-13</td>\n",
       "      <td>Closed with explanation</td>\n",
       "      <td>Yes</td>\n",
       "      <td>No</td>\n",
       "      <td>633242</td>\n",
       "    </tr>\n",
       "    <tr>\n",
       "      <th>47</th>\n",
       "      <td>2012-05-19</td>\n",
       "      <td>Bank account or service</td>\n",
       "      <td>Checking account</td>\n",
       "      <td>Account opening, closing, or management</td>\n",
       "      <td>NaN</td>\n",
       "      <td>NaN</td>\n",
       "      <td>NaN</td>\n",
       "      <td>Bank of America</td>\n",
       "      <td>FL</td>\n",
       "      <td>33312</td>\n",
       "      <td>NaN</td>\n",
       "      <td>NaN</td>\n",
       "      <td>Referral</td>\n",
       "      <td>2012-06-03</td>\n",
       "      <td>Closed with monetary relief</td>\n",
       "      <td>Yes</td>\n",
       "      <td>No</td>\n",
       "      <td>84849</td>\n",
       "    </tr>\n",
       "  </tbody>\n",
       "</table>\n",
       "</div>"
      ],
      "text/plain": [
       "   Date received                  Product  \\\n",
       "4     2014-11-20              Credit card   \n",
       "5     2014-06-26                 Mortgage   \n",
       "9     2016-03-30  Bank account or service   \n",
       "16    2013-12-13                 Mortgage   \n",
       "47    2012-05-19  Bank account or service   \n",
       "\n",
       "                               Sub-product  \\\n",
       "4                                      NaN   \n",
       "5                           Other mortgage   \n",
       "9                         Checking account   \n",
       "16  Conventional adjustable mortgage (ARM)   \n",
       "47                        Checking account   \n",
       "\n",
       "                                       Issue Sub-issue  \\\n",
       "4                          Transaction issue       NaN   \n",
       "5   Loan modification,collection,foreclosure       NaN   \n",
       "9                   Deposits and withdrawals       NaN   \n",
       "16  Loan modification,collection,foreclosure       NaN   \n",
       "47   Account opening, closing, or management       NaN   \n",
       "\n",
       "                         Consumer complaint narrative  \\\n",
       "4                                                 NaN   \n",
       "5                                                 NaN   \n",
       "9   I put my settlement check in to bank of americ...   \n",
       "16                                                NaN   \n",
       "47                                                NaN   \n",
       "\n",
       "                              Company public response          Company State  \\\n",
       "4                                                 NaN  Bank of America    MA   \n",
       "5                                                 NaN  Bank of America    WI   \n",
       "9   Company has responded to the consumer and the ...  Bank of America    TX   \n",
       "16                                                NaN  Bank of America    FL   \n",
       "47                                                NaN  Bank of America    FL   \n",
       "\n",
       "   ZIP code Tags Consumer consent provided? Submitted via  \\\n",
       "4     02127  NaN                        NaN           Web   \n",
       "5     54313  NaN                        NaN      Referral   \n",
       "9     787XX  NaN           Consent provided           Web   \n",
       "16    33134  NaN                        NaN           Web   \n",
       "47    33312  NaN                        NaN      Referral   \n",
       "\n",
       "   Date sent to company Company response to consumer Timely response?  \\\n",
       "4            2014-11-28      Closed with explanation              Yes   \n",
       "5            2014-07-01      Closed with explanation              Yes   \n",
       "9            2016-04-01      Closed with explanation              Yes   \n",
       "16           2013-12-13      Closed with explanation              Yes   \n",
       "47           2012-06-03  Closed with monetary relief              Yes   \n",
       "\n",
       "   Consumer disputed?  Complaint ID  \n",
       "4                  No       1132572  \n",
       "5                  No        913769  \n",
       "9                  No       1855737  \n",
       "16                 No        633242  \n",
       "47                 No         84849  "
      ]
     },
     "execution_count": 6,
     "metadata": {},
     "output_type": "execute_result"
    }
   ],
   "source": [
    "cc.head()"
   ]
  },
  {
   "cell_type": "code",
   "execution_count": 7,
   "metadata": {},
   "outputs": [
    {
     "data": {
      "text/plain": [
       "(46336, 18)"
      ]
     },
     "execution_count": 7,
     "metadata": {},
     "output_type": "execute_result"
    }
   ],
   "source": [
    "cc.shape"
   ]
  },
  {
   "cell_type": "code",
   "execution_count": 8,
   "metadata": {},
   "outputs": [],
   "source": [
    "from sklearn.model_selection import train_test_split\n",
    "cc_train, cc_test = train_test_split(cc, test_size=0.2, random_state=2)\n",
    "\n",
    "cc_train.reset_index(drop=True, inplace=True)\n",
    "cc_test.reset_index(drop=True, inplace=True)"
   ]
  },
  {
   "cell_type": "code",
   "execution_count": 9,
   "metadata": {},
   "outputs": [
    {
     "name": "stdout",
     "output_type": "stream",
     "text": [
      "Date received : 1730\n",
      "Product : 11\n",
      "Sub-product : 43\n",
      "Issue : 85\n",
      "Sub-issue : 46\n",
      "Consumer complaint narrative : 2881\n",
      "Company public response : 4\n",
      "Company : 1\n",
      "State : 60\n",
      "ZIP code : 11015\n",
      "Tags : 3\n",
      "Consumer consent provided? : 3\n",
      "Submitted via : 6\n",
      "Date sent to company : 1578\n",
      "Company response to consumer : 6\n",
      "Timely response? : 2\n",
      "Consumer disputed? : 2\n"
     ]
    }
   ],
   "source": [
    "for col in cc_train.select_dtypes(['object']).columns:\n",
    "    print(col,':',cc_train[col].nunique())"
   ]
  },
  {
   "cell_type": "code",
   "execution_count": 10,
   "metadata": {},
   "outputs": [
    {
     "data": {
      "text/plain": [
       "Date received                       0\n",
       "Product                             0\n",
       "Sub-product                      6155\n",
       "Issue                               0\n",
       "Sub-issue                       45190\n",
       "Consumer complaint narrative    42733\n",
       "Company public response         37105\n",
       "Company                             0\n",
       "State                             475\n",
       "ZIP code                          475\n",
       "Tags                            40712\n",
       "Consumer consent provided?      40200\n",
       "Submitted via                       0\n",
       "Date sent to company                0\n",
       "Company response to consumer        0\n",
       "Timely response?                    0\n",
       "Consumer disputed?                  0\n",
       "Complaint ID                        0\n",
       "dtype: int64"
      ]
     },
     "execution_count": 10,
     "metadata": {},
     "output_type": "execute_result"
    }
   ],
   "source": [
    "cc.isnull().sum()"
   ]
  },
  {
   "cell_type": "code",
   "execution_count": 11,
   "metadata": {},
   "outputs": [
    {
     "name": "stdout",
     "output_type": "stream",
     "text": [
      "Date received : 1558\n",
      "Product : 11\n",
      "Sub-product : 36\n",
      "Issue : 73\n",
      "Sub-issue : 30\n",
      "Consumer complaint narrative : 718\n",
      "Company public response : 2\n",
      "Company : 1\n",
      "State : 57\n",
      "ZIP code : 5407\n",
      "Tags : 3\n",
      "Consumer consent provided? : 3\n",
      "Submitted via : 6\n",
      "Date sent to company : 1396\n",
      "Company response to consumer : 6\n",
      "Timely response? : 2\n",
      "Consumer disputed? : 2\n"
     ]
    }
   ],
   "source": [
    "for col in cc_test.select_dtypes(['object']).columns:\n",
    "    print(col,':',cc_test[col].nunique())"
   ]
  },
  {
   "cell_type": "code",
   "execution_count": 12,
   "metadata": {},
   "outputs": [],
   "source": [
    "cc_train.drop(['Company','ZIP code', 'Complaint ID'], axis=1, inplace=True)\n",
    "cc_test.drop(['Company','ZIP code', 'Complaint ID'], axis=1, inplace=True)"
   ]
  },
  {
   "cell_type": "code",
   "execution_count": 13,
   "metadata": {},
   "outputs": [],
   "source": [
    "for col in ['Date received','Date sent to company']:\n",
    "    cc_train[col]=pd.to_datetime(cc_train[col],infer_datetime_format=True)\n",
    "    cc_test[col]=pd.to_datetime(cc_test[col],infer_datetime_format=True)"
   ]
  },
  {
   "cell_type": "code",
   "execution_count": 14,
   "metadata": {},
   "outputs": [],
   "source": [
    "cc_train['Received Sent Date Diff']=pd.to_numeric(cc_train['Date sent to company']-cc_train['Date received'])\n",
    "cc_test['Received Sent Date Diff']=pd.to_numeric(cc_test['Date sent to company']-cc_test['Date received'])"
   ]
  },
  {
   "cell_type": "code",
   "execution_count": 15,
   "metadata": {},
   "outputs": [],
   "source": [
    "cc_train['Date received year'] = pd.DatetimeIndex(cc_train['Date received']).year\n",
    "cc_train['Date received month'] = pd.DatetimeIndex(cc_train['Date received']).month\n",
    "cc_train['Date received weekday'] = pd.DatetimeIndex(cc_train['Date received']).weekday\n",
    "\n",
    "cc_test['Date received year'] = pd.DatetimeIndex(cc_test['Date received']).year\n",
    "cc_test['Date received month'] = pd.DatetimeIndex(cc_test['Date received']).month\n",
    "cc_test['Date received weekday'] = pd.DatetimeIndex(cc_test['Date received']).weekday"
   ]
  },
  {
   "cell_type": "code",
   "execution_count": 16,
   "metadata": {},
   "outputs": [],
   "source": [
    "for col in ['Date received','Date sent to company']:\n",
    "    cc_train.drop([col],1,inplace=True)\n",
    "    cc_test.drop([col],1,inplace=True)"
   ]
  },
  {
   "cell_type": "code",
   "execution_count": 17,
   "metadata": {},
   "outputs": [],
   "source": [
    "for i in range(len(cc_train)):\n",
    "    if cc_train['Product'][i] in ['Mortgage']:\n",
    "        cc_train.loc[i, 'Product'] = 'Mortgage'\n",
    "    if cc_train['Product'][i] in ['Debt collection']:\n",
    "        cc_train.loc[i, 'Product'] = 'Debt collection'\n",
    "    if cc_train['Product'][i] in ['Credit reporting']:\n",
    "        cc_train.loc[i, 'Product'] = 'Credit reporting'\n",
    "    if cc_train['Product'][i] in ['Credit card', 'Prepaid card']:\n",
    "        cc_train.loc[i, 'Product'] = 'Credit and Prepaid Card'\n",
    "    if cc_train['Product'][i] in ['Bank account or service', 'Money transfers']:\n",
    "        cc_train.loc[i, 'Product'] = 'Bank account or service'\n",
    "    if cc_train['Product'][i] in ['Consumer Loan', 'Student loan', 'Payday loan']:\n",
    "        cc_train.loc[i, 'Product'] = 'Loan services'\n",
    "    if cc_train['Product'][i] in ['Other financial service']:\n",
    "        cc_train.loc[i, 'Product'] = 'Other financial service'"
   ]
  },
  {
   "cell_type": "code",
   "execution_count": 18,
   "metadata": {},
   "outputs": [],
   "source": [
    "for i in range(len(cc_test)):\n",
    "    if cc_test['Product'][i] in ['Mortgage']:\n",
    "        cc_test.loc[i, 'Product'] = 'Mortgage'\n",
    "    if cc_test['Product'][i] in ['Debt collection']:\n",
    "        cc_test.loc[i, 'Product'] = 'Debt collection'\n",
    "    if cc_test['Product'][i] in ['Credit reporting']:\n",
    "        cc_test.loc[i, 'Product'] = 'Credit reporting'\n",
    "    if cc_test['Product'][i] in ['Credit card', 'Prepaid card']:\n",
    "        cc_test.loc[i, 'Product'] = 'Credit and Prepaid Card'\n",
    "    if cc_test['Product'][i] in ['Bank account or service', 'Money transfers']:\n",
    "        cc_test.loc[i, 'Product'] = 'Bank account or service'\n",
    "    if cc_test['Product'][i] in ['Consumer Loan', 'Student loan', 'Payday loan']:\n",
    "        cc_test.loc[i, 'Product'] = 'Loan services'\n",
    "    if cc_test['Product'][i] in ['Other financial service']:\n",
    "        cc_test.loc[i, 'Product'] = 'Other financial service'"
   ]
  },
  {
   "cell_type": "code",
   "execution_count": 19,
   "metadata": {},
   "outputs": [],
   "source": [
    "k=cc_train['Issue'].value_counts()\n",
    "for val in k.axes[0][0:15]:\n",
    "    varname='Issue_'+val.replace(',','_').replace(' ','_')\n",
    "    cc_train[varname]=np.where(cc_train['Issue']==val,1,0)\n",
    "    cc_test[varname]=np.where(cc_test['Issue']==val,1,0)\n",
    "del cc_train['Issue']\n",
    "del cc_test['Issue']"
   ]
  },
  {
   "cell_type": "code",
   "execution_count": 20,
   "metadata": {},
   "outputs": [],
   "source": [
    "del cc_train['Company public response']\n",
    "del cc_test['Company public response']"
   ]
  },
  {
   "cell_type": "code",
   "execution_count": 21,
   "metadata": {},
   "outputs": [],
   "source": [
    "cc_train['State'].dropna(axis=0, inplace=True)\n",
    "cc_test['State'].dropna(axis=0, inplace=True)"
   ]
  },
  {
   "cell_type": "code",
   "execution_count": 22,
   "metadata": {},
   "outputs": [],
   "source": [
    "North_east = ['NJ', 'NY', 'PA', 'NH', 'MA', 'CT', 'ME', 'VT', 'RI', 'AE']\n",
    "South = ['TX', 'OK', 'VA', 'FL', 'GA', 'NC', 'LA', 'SC', 'KY', 'MD', 'DC', 'TN', 'AL', 'DE', \n",
    "         'MS', 'AR', 'WV', 'AS', 'PR', 'MH', 'GU', 'MP', 'FM', 'VI']\n",
    "Mid_West = ['IL', 'IN', 'NE', 'WI', 'MN', 'OH', 'MO', 'MI', 'SD', 'KS', 'IA', 'ND']\n",
    "West = ['CA', 'OR', 'WA', 'NV', 'AZ', 'NM', 'UT', 'CO', 'ID', 'AK', 'WY', 'HI', 'MT', 'AP']"
   ]
  },
  {
   "cell_type": "code",
   "execution_count": 23,
   "metadata": {},
   "outputs": [],
   "source": [
    "for i in range(len(cc_train)):\n",
    "    if cc_train['State'][i] in North_east:\n",
    "        cc_train.loc[i, 'State'] = 'North_East'\n",
    "    if cc_train['State'][i] in South:\n",
    "        cc_train.loc[i, 'State'] = 'South'\n",
    "    if cc_train['State'][i] in Mid_West:\n",
    "        cc_train.loc[i, 'State'] = 'Mid_West'\n",
    "    if cc_train['State'][i] in West:\n",
    "        cc_train.loc[i, 'State'] = 'West'"
   ]
  },
  {
   "cell_type": "code",
   "execution_count": 24,
   "metadata": {},
   "outputs": [],
   "source": [
    "for i in range(len(cc_test)):\n",
    "    if cc_test['State'][i] in North_east:\n",
    "        cc_test.loc[i, 'State'] = 'North_East'\n",
    "    if cc_test['State'][i] in South:\n",
    "        cc_test.loc[i, 'State'] = 'South'\n",
    "    if cc_test['State'][i] in Mid_West:\n",
    "        cc_test.loc[i, 'State'] = 'Mid_West'\n",
    "    if cc_test['State'][i] in West:\n",
    "        cc_test.loc[i, 'State'] = 'West'"
   ]
  },
  {
   "cell_type": "code",
   "execution_count": 25,
   "metadata": {},
   "outputs": [],
   "source": [
    "for col in ['Product','Submitted via','Company response to consumer','Timely response?', 'State']:\n",
    "    \n",
    "    temp=pd.get_dummies(cc_train[col],prefix=col,drop_first=True)\n",
    "    cc_train=pd.concat([temp,cc_train],1)\n",
    "    cc_train.drop([col],1,inplace=True)\n",
    "    \n",
    "    temp=pd.get_dummies(cc_test[col],prefix=col,drop_first=True)\n",
    "    cc_test=pd.concat([temp,cc_test],1)\n",
    "    cc_test.drop([col],1,inplace=True)"
   ]
  },
  {
   "cell_type": "code",
   "execution_count": 26,
   "metadata": {},
   "outputs": [],
   "source": [
    "for col in ['Sub-product','Sub-issue','Consumer complaint narrative',\n",
    "            'Tags','Consumer consent provided?']:\n",
    "    varname=col.replace('-','_').replace('?','').replace(\" \",'_')\n",
    "    cc_train[varname]=np.where(pd.isnull(cc_train[col]),0,1)\n",
    "    cc_train.drop([col],1,inplace=True)\n",
    "    cc_test[varname]=np.where(pd.isnull(cc_test[col]),0,1)\n",
    "    cc_test.drop([col],1,inplace=True)"
   ]
  },
  {
   "cell_type": "code",
   "execution_count": 27,
   "metadata": {},
   "outputs": [],
   "source": [
    "cc_train['Consumer disputed?']=np.where(cc_train['Consumer disputed?']==\"Yes\",1,0)\n",
    "cc_test['Consumer disputed?']=np.where(cc_test['Consumer disputed?']==\"Yes\",1,0)"
   ]
  },
  {
   "cell_type": "code",
   "execution_count": 28,
   "metadata": {},
   "outputs": [],
   "source": [
    "from sklearn.preprocessing import StandardScaler\n",
    "scaler = StandardScaler()"
   ]
  },
  {
   "cell_type": "code",
   "execution_count": 29,
   "metadata": {},
   "outputs": [],
   "source": [
    "cols = ['Received Sent Date Diff', 'Date received year', 'Date received month', 'Date received weekday']\n",
    "\n",
    "for col in cols:\n",
    "    scale = scaler.fit(cc_train[[col]])\n",
    "    cc_train[col] = scale.transform(cc_train[[col]])\n",
    "    cc_test[col] = scale.transform(cc_test[[col]])"
   ]
  },
  {
   "cell_type": "code",
   "execution_count": 30,
   "metadata": {},
   "outputs": [
    {
     "data": {
      "text/html": [
       "<div>\n",
       "<style scoped>\n",
       "    .dataframe tbody tr th:only-of-type {\n",
       "        vertical-align: middle;\n",
       "    }\n",
       "\n",
       "    .dataframe tbody tr th {\n",
       "        vertical-align: top;\n",
       "    }\n",
       "\n",
       "    .dataframe thead th {\n",
       "        text-align: right;\n",
       "    }\n",
       "</style>\n",
       "<table border=\"1\" class=\"dataframe\">\n",
       "  <thead>\n",
       "    <tr style=\"text-align: right;\">\n",
       "      <th></th>\n",
       "      <th>State_North_East</th>\n",
       "      <th>State_South</th>\n",
       "      <th>State_West</th>\n",
       "      <th>Timely response?_Yes</th>\n",
       "      <th>Company response to consumer_Closed with explanation</th>\n",
       "      <th>Company response to consumer_Closed with monetary relief</th>\n",
       "      <th>Company response to consumer_Closed with non-monetary relief</th>\n",
       "      <th>Company response to consumer_Closed with relief</th>\n",
       "      <th>Company response to consumer_Closed without relief</th>\n",
       "      <th>Submitted via_Fax</th>\n",
       "      <th>...</th>\n",
       "      <th>Issue_Making/receiving_payments__sending_money</th>\n",
       "      <th>Issue_Using_a_debit_or_ATM_card</th>\n",
       "      <th>Issue_Credit_decision_/_Underwriting</th>\n",
       "      <th>Issue_Closing/Cancelling_account</th>\n",
       "      <th>Issue_Identity_theft_/_Fraud_/_Embezzlement</th>\n",
       "      <th>Issue_Cont'd_attempts_collect_debt_not_owed</th>\n",
       "      <th>Sub_product</th>\n",
       "      <th>Sub_issue</th>\n",
       "      <th>Consumer_complaint_narrative</th>\n",
       "      <th>Consumer_consent_provided</th>\n",
       "    </tr>\n",
       "  </thead>\n",
       "  <tbody>\n",
       "    <tr>\n",
       "      <th>0</th>\n",
       "      <td>0</td>\n",
       "      <td>1</td>\n",
       "      <td>0</td>\n",
       "      <td>1</td>\n",
       "      <td>1</td>\n",
       "      <td>0</td>\n",
       "      <td>0</td>\n",
       "      <td>0</td>\n",
       "      <td>0</td>\n",
       "      <td>0</td>\n",
       "      <td>...</td>\n",
       "      <td>0</td>\n",
       "      <td>0</td>\n",
       "      <td>0</td>\n",
       "      <td>0</td>\n",
       "      <td>0</td>\n",
       "      <td>0</td>\n",
       "      <td>1</td>\n",
       "      <td>0</td>\n",
       "      <td>0</td>\n",
       "      <td>0</td>\n",
       "    </tr>\n",
       "    <tr>\n",
       "      <th>1</th>\n",
       "      <td>1</td>\n",
       "      <td>0</td>\n",
       "      <td>0</td>\n",
       "      <td>1</td>\n",
       "      <td>1</td>\n",
       "      <td>0</td>\n",
       "      <td>0</td>\n",
       "      <td>0</td>\n",
       "      <td>0</td>\n",
       "      <td>0</td>\n",
       "      <td>...</td>\n",
       "      <td>0</td>\n",
       "      <td>0</td>\n",
       "      <td>0</td>\n",
       "      <td>0</td>\n",
       "      <td>0</td>\n",
       "      <td>0</td>\n",
       "      <td>1</td>\n",
       "      <td>1</td>\n",
       "      <td>0</td>\n",
       "      <td>0</td>\n",
       "    </tr>\n",
       "    <tr>\n",
       "      <th>2</th>\n",
       "      <td>0</td>\n",
       "      <td>0</td>\n",
       "      <td>0</td>\n",
       "      <td>1</td>\n",
       "      <td>1</td>\n",
       "      <td>0</td>\n",
       "      <td>0</td>\n",
       "      <td>0</td>\n",
       "      <td>0</td>\n",
       "      <td>0</td>\n",
       "      <td>...</td>\n",
       "      <td>0</td>\n",
       "      <td>0</td>\n",
       "      <td>0</td>\n",
       "      <td>0</td>\n",
       "      <td>0</td>\n",
       "      <td>0</td>\n",
       "      <td>1</td>\n",
       "      <td>0</td>\n",
       "      <td>0</td>\n",
       "      <td>0</td>\n",
       "    </tr>\n",
       "    <tr>\n",
       "      <th>3</th>\n",
       "      <td>0</td>\n",
       "      <td>0</td>\n",
       "      <td>0</td>\n",
       "      <td>1</td>\n",
       "      <td>1</td>\n",
       "      <td>0</td>\n",
       "      <td>0</td>\n",
       "      <td>0</td>\n",
       "      <td>0</td>\n",
       "      <td>0</td>\n",
       "      <td>...</td>\n",
       "      <td>0</td>\n",
       "      <td>0</td>\n",
       "      <td>0</td>\n",
       "      <td>0</td>\n",
       "      <td>0</td>\n",
       "      <td>0</td>\n",
       "      <td>1</td>\n",
       "      <td>0</td>\n",
       "      <td>0</td>\n",
       "      <td>0</td>\n",
       "    </tr>\n",
       "    <tr>\n",
       "      <th>4</th>\n",
       "      <td>0</td>\n",
       "      <td>0</td>\n",
       "      <td>1</td>\n",
       "      <td>1</td>\n",
       "      <td>0</td>\n",
       "      <td>0</td>\n",
       "      <td>0</td>\n",
       "      <td>0</td>\n",
       "      <td>1</td>\n",
       "      <td>0</td>\n",
       "      <td>...</td>\n",
       "      <td>0</td>\n",
       "      <td>0</td>\n",
       "      <td>0</td>\n",
       "      <td>0</td>\n",
       "      <td>0</td>\n",
       "      <td>0</td>\n",
       "      <td>1</td>\n",
       "      <td>0</td>\n",
       "      <td>0</td>\n",
       "      <td>0</td>\n",
       "    </tr>\n",
       "  </tbody>\n",
       "</table>\n",
       "<p>5 rows × 44 columns</p>\n",
       "</div>"
      ],
      "text/plain": [
       "   State_North_East  State_South  State_West  Timely response?_Yes  \\\n",
       "0                 0            1           0                     1   \n",
       "1                 1            0           0                     1   \n",
       "2                 0            0           0                     1   \n",
       "3                 0            0           0                     1   \n",
       "4                 0            0           1                     1   \n",
       "\n",
       "   Company response to consumer_Closed with explanation  \\\n",
       "0                                                  1      \n",
       "1                                                  1      \n",
       "2                                                  1      \n",
       "3                                                  1      \n",
       "4                                                  0      \n",
       "\n",
       "   Company response to consumer_Closed with monetary relief  \\\n",
       "0                                                  0          \n",
       "1                                                  0          \n",
       "2                                                  0          \n",
       "3                                                  0          \n",
       "4                                                  0          \n",
       "\n",
       "   Company response to consumer_Closed with non-monetary relief  \\\n",
       "0                                                  0              \n",
       "1                                                  0              \n",
       "2                                                  0              \n",
       "3                                                  0              \n",
       "4                                                  0              \n",
       "\n",
       "   Company response to consumer_Closed with relief  \\\n",
       "0                                                0   \n",
       "1                                                0   \n",
       "2                                                0   \n",
       "3                                                0   \n",
       "4                                                0   \n",
       "\n",
       "   Company response to consumer_Closed without relief  Submitted via_Fax  ...  \\\n",
       "0                                                  0                   0  ...   \n",
       "1                                                  0                   0  ...   \n",
       "2                                                  0                   0  ...   \n",
       "3                                                  0                   0  ...   \n",
       "4                                                  1                   0  ...   \n",
       "\n",
       "   Issue_Making/receiving_payments__sending_money  \\\n",
       "0                                               0   \n",
       "1                                               0   \n",
       "2                                               0   \n",
       "3                                               0   \n",
       "4                                               0   \n",
       "\n",
       "   Issue_Using_a_debit_or_ATM_card  Issue_Credit_decision_/_Underwriting  \\\n",
       "0                                0                                     0   \n",
       "1                                0                                     0   \n",
       "2                                0                                     0   \n",
       "3                                0                                     0   \n",
       "4                                0                                     0   \n",
       "\n",
       "   Issue_Closing/Cancelling_account  \\\n",
       "0                                 0   \n",
       "1                                 0   \n",
       "2                                 0   \n",
       "3                                 0   \n",
       "4                                 0   \n",
       "\n",
       "   Issue_Identity_theft_/_Fraud_/_Embezzlement  \\\n",
       "0                                            0   \n",
       "1                                            0   \n",
       "2                                            0   \n",
       "3                                            0   \n",
       "4                                            0   \n",
       "\n",
       "   Issue_Cont'd_attempts_collect_debt_not_owed  Sub_product  Sub_issue  \\\n",
       "0                                            0            1          0   \n",
       "1                                            0            1          1   \n",
       "2                                            0            1          0   \n",
       "3                                            0            1          0   \n",
       "4                                            0            1          0   \n",
       "\n",
       "   Consumer_complaint_narrative  Consumer_consent_provided  \n",
       "0                             0                          0  \n",
       "1                             0                          0  \n",
       "2                             0                          0  \n",
       "3                             0                          0  \n",
       "4                             0                          0  \n",
       "\n",
       "[5 rows x 44 columns]"
      ]
     },
     "execution_count": 30,
     "metadata": {},
     "output_type": "execute_result"
    }
   ],
   "source": [
    "cc_train.head()"
   ]
  },
  {
   "cell_type": "code",
   "execution_count": 31,
   "metadata": {},
   "outputs": [],
   "source": [
    "from xgboost.sklearn import XGBClassifier"
   ]
  },
  {
   "cell_type": "code",
   "execution_count": 33,
   "metadata": {},
   "outputs": [],
   "source": [
    "xgb_model = XGBClassifier(base_score=0.5, booster='gbtree', colsample_bylevel=1,\n",
    "              colsample_bynode=1, colsample_bytree=1, gamma=0.4, gpu_id=-1,\n",
    "              importance_type='gain', interaction_constraints='',\n",
    "              learning_rate=0.05, max_delta_step=0, max_depth=5,\n",
    "              min_child_weight=1, n_estimator=700, n_estimators=100, n_jobs=0, num_parallel_tree=1,\n",
    "              objective='binary:logistic', random_state=0, reg_alpha=0,\n",
    "              reg_lambda=1, scale_pos_weight=1, subsample=1,\n",
    "              tree_method='exact', validate_parameters=1, verbosity=None)"
   ]
  },
  {
   "cell_type": "code",
   "execution_count": 39,
   "metadata": {},
   "outputs": [],
   "source": [
    "x_train = cc_train.drop('Consumer disputed?',1)\n",
    "y_train = cc_train['Consumer disputed?']\n",
    "\n",
    "x_test = cc_test.drop('Consumer disputed?',1)\n",
    "y_test = cc_test['Consumer disputed?']"
   ]
  },
  {
   "cell_type": "code",
   "execution_count": 40,
   "metadata": {},
   "outputs": [
    {
     "name": "stdout",
     "output_type": "stream",
     "text": [
      "[16:29:47] WARNING: C:\\Users\\Administrator\\workspace\\xgboost-win64_release_1.2.0\\src\\learner.cc:516: \n",
      "Parameters: { n_estimator } might not be used.\n",
      "\n",
      "  This may not be accurate due to some parameters are only used in language bindings but\n",
      "  passed down to XGBoost core.  Or some parameters are not used but slip through this\n",
      "  verification. Please open an issue if you find above cases.\n",
      "\n",
      "\n"
     ]
    },
    {
     "data": {
      "text/plain": [
       "XGBClassifier(base_score=0.5, booster='gbtree', colsample_bylevel=1,\n",
       "              colsample_bynode=1, colsample_bytree=1, gamma=0.4, gpu_id=-1,\n",
       "              importance_type='gain', interaction_constraints='',\n",
       "              learning_rate=0.05, max_delta_step=0, max_depth=5,\n",
       "              min_child_weight=1, missing=nan, monotone_constraints='()',\n",
       "              n_estimator=700, n_estimators=100, n_jobs=0, num_parallel_tree=1,\n",
       "              objective='binary:logistic', random_state=0, reg_alpha=0,\n",
       "              reg_lambda=1, scale_pos_weight=1, subsample=1,\n",
       "              tree_method='exact', validate_parameters=1, verbosity=None)"
      ]
     },
     "execution_count": 40,
     "metadata": {},
     "output_type": "execute_result"
    }
   ],
   "source": [
    "xgb_model.fit(x_train, y_train)"
   ]
  },
  {
   "cell_type": "code",
   "execution_count": 41,
   "metadata": {},
   "outputs": [],
   "source": [
    "from sklearn.metrics import roc_auc_score"
   ]
  },
  {
   "cell_type": "code",
   "execution_count": 42,
   "metadata": {},
   "outputs": [
    {
     "data": {
      "text/plain": [
       "0.637039977748638"
      ]
     },
     "execution_count": 42,
     "metadata": {},
     "output_type": "execute_result"
    }
   ],
   "source": [
    "roc_auc_score(y_train, xgb_model.predict_proba(x_train)[:,1])"
   ]
  },
  {
   "cell_type": "code",
   "execution_count": 43,
   "metadata": {},
   "outputs": [
    {
     "data": {
      "text/plain": [
       "0.6119110192981327"
      ]
     },
     "execution_count": 43,
     "metadata": {},
     "output_type": "execute_result"
    }
   ],
   "source": [
    "roc_auc_score(y_test, xgb_model.predict_proba(x_test)[:,1])"
   ]
  },
  {
   "cell_type": "code",
   "execution_count": 44,
   "metadata": {},
   "outputs": [
    {
     "data": {
      "text/plain": [
       "array([[0.7874745 , 0.21252547],\n",
       "       [0.7774048 , 0.22259519],\n",
       "       [0.7739413 , 0.22605875],\n",
       "       [0.8102412 , 0.18975876],\n",
       "       [0.79084027, 0.20915976],\n",
       "       [0.7751255 , 0.22487448],\n",
       "       [0.7300411 , 0.2699589 ],\n",
       "       [0.7870208 , 0.21297917]], dtype=float32)"
      ]
     },
     "execution_count": 44,
     "metadata": {},
     "output_type": "execute_result"
    }
   ],
   "source": [
    "xgb_model.predict_proba(cc_test.head(8).drop('Consumer disputed?',1))"
   ]
  },
  {
   "cell_type": "code",
   "execution_count": 45,
   "metadata": {},
   "outputs": [
    {
     "data": {
      "text/plain": [
       "0    1\n",
       "1    0\n",
       "2    0\n",
       "3    0\n",
       "4    0\n",
       "5    0\n",
       "6    0\n",
       "7    1\n",
       "Name: Consumer disputed?, dtype: int32"
      ]
     },
     "execution_count": 45,
     "metadata": {},
     "output_type": "execute_result"
    }
   ],
   "source": [
    "cc_test.head(8)['Consumer disputed?']"
   ]
  },
  {
   "cell_type": "code",
   "execution_count": 46,
   "metadata": {},
   "outputs": [],
   "source": [
    "import pickle\n",
    "# open a file, where you ant to store the data\n",
    "file = open('DisputePred_xgb.pkl', 'wb')\n",
    "\n",
    "# dump information to that file\n",
    "pickle.dump(xgb_model, file)"
   ]
  },
  {
   "cell_type": "code",
   "execution_count": 47,
   "metadata": {},
   "outputs": [
    {
     "data": {
      "text/html": [
       "<div>\n",
       "<style scoped>\n",
       "    .dataframe tbody tr th:only-of-type {\n",
       "        vertical-align: middle;\n",
       "    }\n",
       "\n",
       "    .dataframe tbody tr th {\n",
       "        vertical-align: top;\n",
       "    }\n",
       "\n",
       "    .dataframe thead th {\n",
       "        text-align: right;\n",
       "    }\n",
       "</style>\n",
       "<table border=\"1\" class=\"dataframe\">\n",
       "  <thead>\n",
       "    <tr style=\"text-align: right;\">\n",
       "      <th></th>\n",
       "      <th>State_North_East</th>\n",
       "      <th>State_South</th>\n",
       "      <th>State_West</th>\n",
       "      <th>Timely response?_Yes</th>\n",
       "      <th>Company response to consumer_Closed with explanation</th>\n",
       "      <th>Company response to consumer_Closed with monetary relief</th>\n",
       "      <th>Company response to consumer_Closed with non-monetary relief</th>\n",
       "      <th>Company response to consumer_Closed with relief</th>\n",
       "      <th>Company response to consumer_Closed without relief</th>\n",
       "      <th>Submitted via_Fax</th>\n",
       "      <th>...</th>\n",
       "      <th>Issue_Making/receiving_payments__sending_money</th>\n",
       "      <th>Issue_Using_a_debit_or_ATM_card</th>\n",
       "      <th>Issue_Credit_decision_/_Underwriting</th>\n",
       "      <th>Issue_Closing/Cancelling_account</th>\n",
       "      <th>Issue_Identity_theft_/_Fraud_/_Embezzlement</th>\n",
       "      <th>Issue_Cont'd_attempts_collect_debt_not_owed</th>\n",
       "      <th>Sub_product</th>\n",
       "      <th>Sub_issue</th>\n",
       "      <th>Consumer_complaint_narrative</th>\n",
       "      <th>Consumer_consent_provided</th>\n",
       "    </tr>\n",
       "  </thead>\n",
       "  <tbody>\n",
       "    <tr>\n",
       "      <th>0</th>\n",
       "      <td>1</td>\n",
       "      <td>0</td>\n",
       "      <td>0</td>\n",
       "      <td>1</td>\n",
       "      <td>0</td>\n",
       "      <td>0</td>\n",
       "      <td>1</td>\n",
       "      <td>0</td>\n",
       "      <td>0</td>\n",
       "      <td>0</td>\n",
       "      <td>...</td>\n",
       "      <td>0</td>\n",
       "      <td>0</td>\n",
       "      <td>0</td>\n",
       "      <td>0</td>\n",
       "      <td>0</td>\n",
       "      <td>0</td>\n",
       "      <td>0</td>\n",
       "      <td>0</td>\n",
       "      <td>0</td>\n",
       "      <td>0</td>\n",
       "    </tr>\n",
       "  </tbody>\n",
       "</table>\n",
       "<p>1 rows × 44 columns</p>\n",
       "</div>"
      ],
      "text/plain": [
       "   State_North_East  State_South  State_West  Timely response?_Yes  \\\n",
       "0                 1            0           0                     1   \n",
       "\n",
       "   Company response to consumer_Closed with explanation  \\\n",
       "0                                                  0      \n",
       "\n",
       "   Company response to consumer_Closed with monetary relief  \\\n",
       "0                                                  0          \n",
       "\n",
       "   Company response to consumer_Closed with non-monetary relief  \\\n",
       "0                                                  1              \n",
       "\n",
       "   Company response to consumer_Closed with relief  \\\n",
       "0                                                0   \n",
       "\n",
       "   Company response to consumer_Closed without relief  Submitted via_Fax  ...  \\\n",
       "0                                                  0                   0  ...   \n",
       "\n",
       "   Issue_Making/receiving_payments__sending_money  \\\n",
       "0                                               0   \n",
       "\n",
       "   Issue_Using_a_debit_or_ATM_card  Issue_Credit_decision_/_Underwriting  \\\n",
       "0                                0                                     0   \n",
       "\n",
       "   Issue_Closing/Cancelling_account  \\\n",
       "0                                 0   \n",
       "\n",
       "   Issue_Identity_theft_/_Fraud_/_Embezzlement  \\\n",
       "0                                            0   \n",
       "\n",
       "   Issue_Cont'd_attempts_collect_debt_not_owed  Sub_product  Sub_issue  \\\n",
       "0                                            0            0          0   \n",
       "\n",
       "   Consumer_complaint_narrative  Consumer_consent_provided  \n",
       "0                             0                          0  \n",
       "\n",
       "[1 rows x 44 columns]"
      ]
     },
     "execution_count": 47,
     "metadata": {},
     "output_type": "execute_result"
    }
   ],
   "source": [
    "cc_test.head(1)"
   ]
  },
  {
   "cell_type": "code",
   "execution_count": null,
   "metadata": {},
   "outputs": [],
   "source": []
  }
 ],
 "metadata": {
  "kernelspec": {
   "display_name": "Python 3",
   "language": "python",
   "name": "python3"
  },
  "language_info": {
   "codemirror_mode": {
    "name": "ipython",
    "version": 3
   },
   "file_extension": ".py",
   "mimetype": "text/x-python",
   "name": "python",
   "nbconvert_exporter": "python",
   "pygments_lexer": "ipython3",
   "version": "3.6.4"
  }
 },
 "nbformat": 4,
 "nbformat_minor": 2
}
